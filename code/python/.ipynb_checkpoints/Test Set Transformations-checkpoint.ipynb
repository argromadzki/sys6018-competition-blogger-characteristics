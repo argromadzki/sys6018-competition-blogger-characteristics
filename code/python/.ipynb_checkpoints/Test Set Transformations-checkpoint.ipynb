{
 "cells": [
  {
   "cell_type": "code",
   "execution_count": 11,
   "metadata": {},
   "outputs": [],
   "source": [
    "porter = nltk.stem.porter.PorterStemmer()\n",
    "from nltk.corpus import stopwords\n",
    "stop_words = set(stopwords.words('english'))\n",
    "test['text'] = test['text'].apply(str.lower) # lowercase, tokenize & stem words in text\n",
    "test['tokens']=test['text'].apply(nltk.word_tokenize) # separate by words/punctuation/etc.\n",
    "test['tokens']=[[porter.stem(x) for x in tokens] for tokens in test['tokens']] # stem words\n",
    "test['tokens']=[[w for w in tokens if not w in stop_words] for tokens in test['tokens']] # stop words\n",
    "test['tokens']=[[w for w in tokens if w.isalpha()] for tokens in test['tokens']]"
   ]
  },
  {
   "cell_type": "code",
   "execution_count": 12,
   "metadata": {},
   "outputs": [],
   "source": [
    "test['newtext'] = test['tokens'].apply(lambda x: \" \".join(x)) # concatenate tokens within a cell"
   ]
  },
  {
   "cell_type": "code",
   "execution_count": 86,
   "metadata": {},
   "outputs": [
    {
     "data": {
      "text/plain": [
       "<438492x9270 sparse matrix of type '<class 'numpy.int64'>'\n",
       "\twith 29732058 stored elements in Compressed Sparse Row format>"
      ]
     },
     "execution_count": 86,
     "metadata": {},
     "output_type": "execute_result"
    }
   ],
   "source": [
    "# Reduce TDM Dimensionality\n",
    "vectorizer = slr.feature_extraction.text.CountVectorizer(min_df=.0005)\n",
    "test_tdm_reduced = vectorizer.fit_transform(train['newtext'])\n",
    "test_tdm_reduced"
   ]
  },
  {
   "cell_type": "code",
   "execution_count": 13,
   "metadata": {},
   "outputs": [],
   "source": [
    "# save each document with reduced text to csv\n",
    "test.to_csv(\"Testing_Corpus.csv\")"
   ]
  },
  {
   "cell_type": "code",
   "execution_count": 72,
   "metadata": {},
   "outputs": [],
   "source": [
    "# Saving vectorizer headings\n",
    "feature_headings = vectorizer.get_feature_names()"
   ]
  },
  {
   "cell_type": "code",
   "execution_count": 66,
   "metadata": {},
   "outputs": [],
   "source": [
    "# TFIDF transform\n",
    "transformer = slr.feature_extraction.text.TfidfTransformer(smooth_idf=False)\n",
    "test_tfidf = transformer.fit_transform(test_tdm_reduced)"
   ]
  },
  {
   "cell_type": "code",
   "execution_count": 30,
   "metadata": {},
   "outputs": [],
   "source": [
    "sp.sparse.save_npz(\"Testing_TF_IDF_01.npz\", tfidf)"
   ]
  }
 ],
 "metadata": {
  "kernelspec": {
   "display_name": "Python 3",
   "language": "python",
   "name": "python3"
  },
  "language_info": {
   "codemirror_mode": {
    "name": "ipython",
    "version": 3
   },
   "file_extension": ".py",
   "mimetype": "text/x-python",
   "name": "python",
   "nbconvert_exporter": "python",
   "pygments_lexer": "ipython3",
   "version": "3.6.5"
  }
 },
 "nbformat": 4,
 "nbformat_minor": 2
}
